{
 "cells": [
  {
   "cell_type": "markdown",
   "id": "removed-rwanda",
   "metadata": {},
   "source": [
    "# Most Suitable Zip Codes for Young Families Moving to the Boston Area"
   ]
  },
  {
   "cell_type": "markdown",
   "id": "25bbb8e2-ab59-43f6-90df-cac8844322f5",
   "metadata": {},
   "source": [
    "## 1. Import Packages and explore Massachusetts Metropolitan Area Shapefile"
   ]
  },
  {
   "cell_type": "code",
   "execution_count": null,
   "id": "informal-kingston",
   "metadata": {},
   "outputs": [],
   "source": [
    "import pandas as pd\n",
    "import numpy as np\n",
    "import geopandas as gpd\n",
    "import matplotlib.pyplot as plt\n",
    "import contextily as cx\n",
    "from shapely.geometry import Point, Polygon\n",
    "import matplotlib.pyplot as plt"
   ]
  },
  {
   "cell_type": "code",
   "execution_count": null,
   "id": "loved-assembly",
   "metadata": {},
   "outputs": [],
   "source": [
    "boundaries = gpd.read_file('data/MPO_Boundaries/MPO_Boundaries.shp')"
   ]
  },
  {
   "cell_type": "code",
   "execution_count": null,
   "id": "intelligent-philosophy",
   "metadata": {},
   "outputs": [],
   "source": [
    "boundaries.head()"
   ]
  },
  {
   "cell_type": "markdown",
   "id": "54c48d5f-fc3e-4297-b898-e3246aafb4bd",
   "metadata": {},
   "source": [
    "## 2. Import Zip Codes shapefile, change both layers to MA State Plane Projection"
   ]
  },
  {
   "cell_type": "code",
   "execution_count": null,
   "id": "760defde-0db8-4a7c-9d00-308b357e8f92",
   "metadata": {},
   "outputs": [],
   "source": [
    "zipcodes = gpd.read_file('data/zipcodes/tl_2010_25_zcta510.shp')"
   ]
  },
  {
   "cell_type": "code",
   "execution_count": null,
   "id": "add66526-0449-49cb-8c85-9cef535e5dc6",
   "metadata": {},
   "outputs": [],
   "source": [
    "zipcodes = zipcodes.to_crs(\"epsg:26986\") #MA State Plane Projection"
   ]
  },
  {
   "cell_type": "code",
   "execution_count": null,
   "id": "387364a1-4a4c-49d9-af79-2b8ad4dcbc86",
   "metadata": {},
   "outputs": [],
   "source": [
    "boundaries = boundaries.to_crs(\"epsg:26986\") "
   ]
  },
  {
   "cell_type": "code",
   "execution_count": null,
   "id": "buried-multimedia",
   "metadata": {},
   "outputs": [],
   "source": [
    "#Plot municipalities in MA for context\n",
    "\n",
    "fig, ax = plt.subplots(figsize=(10, 10))\n",
    "boundaries.plot(column='OBJECTID', cmap='PiYG', ax=ax).set_title('Massachusetts Municipal Boundaries', size=20)\n",
    "cx.add_basemap(ax, source=cx.providers.CartoDB.Positron)\n",
    "ax.set_axis_off()"
   ]
  },
  {
   "cell_type": "code",
   "execution_count": null,
   "id": "broken-ecology",
   "metadata": {},
   "outputs": [],
   "source": [
    "zipcodes.head()"
   ]
  },
  {
   "cell_type": "code",
   "execution_count": null,
   "id": "strategic-hacker",
   "metadata": {},
   "outputs": [],
   "source": [
    "#Plot all zipcodes in MA for context\n",
    "\n",
    "fig, ax = plt.subplots(figsize=(10, 10))\n",
    "zipcodes.plot(column='ZCTA5CE10', cmap = 'spring', ax=ax)\\\n",
    ".set_title('Massachusetts Zip Codes', size=20)\n",
    "cx.add_basemap(ax, source=cx.providers.Stamen.TonerLite, \\\n",
    "               crs=zipcodes.crs.to_string())\n",
    "ax.set_axis_off()"
   ]
  },
  {
   "cell_type": "markdown",
   "id": "further-ridge",
   "metadata": {},
   "source": [
    "## 3. Clip zip code layer to Boston Region MPO"
   ]
  },
  {
   "cell_type": "code",
   "execution_count": null,
   "id": "middle-flavor",
   "metadata": {},
   "outputs": [],
   "source": [
    "boston_region = boundaries[boundaries.MPO==\"Boston Region\"].copy()"
   ]
  },
  {
   "cell_type": "code",
   "execution_count": null,
   "id": "emerging-implement",
   "metadata": {},
   "outputs": [],
   "source": [
    "boston_region.plot()"
   ]
  },
  {
   "cell_type": "code",
   "execution_count": null,
   "id": "unauthorized-utility",
   "metadata": {},
   "outputs": [],
   "source": [
    "boston_zipcodes = gpd.clip(zipcodes, boston_region)"
   ]
  },
  {
   "cell_type": "code",
   "execution_count": null,
   "id": "behavioral-warning",
   "metadata": {},
   "outputs": [],
   "source": [
    "boston_zipcodes.plot()"
   ]
  },
  {
   "cell_type": "markdown",
   "id": "presidential-spider",
   "metadata": {},
   "source": [
    "## 4. Analyze school availability per zip code\n",
    "\n",
    "A variety of educational opportunities is important to many young families who wish to enroll their children in a high quality program. Below, I import school points, calculate the number of schools per zip code, and display the number of schools on a map."
   ]
  },
  {
   "cell_type": "code",
   "execution_count": null,
   "id": "psychological-covering",
   "metadata": {},
   "outputs": [],
   "source": [
    "schools = gpd.read_file('data/schools/SCHOOLS_PT.shp')"
   ]
  },
  {
   "cell_type": "code",
   "execution_count": null,
   "id": "disabled-vitamin",
   "metadata": {},
   "outputs": [],
   "source": [
    "schools"
   ]
  },
  {
   "cell_type": "code",
   "execution_count": null,
   "id": "established-trust",
   "metadata": {},
   "outputs": [],
   "source": [
    "boston_zipcodes"
   ]
  },
  {
   "cell_type": "code",
   "execution_count": null,
   "id": "750ce58c-a9c5-4475-817e-8abbfd88c8f0",
   "metadata": {},
   "outputs": [],
   "source": [
    "#Rename certain columns, and remove unecessary columns\n",
    "boston_zipcodes.rename(columns={\"ZCTA5CE10\":\"ZIPCODE\"}, inplace = True)"
   ]
  },
  {
   "cell_type": "code",
   "execution_count": null,
   "id": "72f8a0c8-e3c7-4ba6-a950-5c91ada70d19",
   "metadata": {},
   "outputs": [],
   "source": [
    "boston_zipcodes = boston_zipcodes[['ZIPCODE', 'ALAND10', 'geometry']]"
   ]
  },
  {
   "cell_type": "code",
   "execution_count": null,
   "id": "7ec48ca3-c982-4fb5-bcac-318fcac8f72c",
   "metadata": {},
   "outputs": [],
   "source": [
    "boston_zipcodes"
   ]
  },
  {
   "cell_type": "code",
   "execution_count": null,
   "id": "25b80607-2925-4489-9abb-685a00ce3327",
   "metadata": {},
   "outputs": [],
   "source": [
    "#Calculate the number of schools per zipcode\n",
    "schools_count = schools[['SCHID', 'ZIPCODE']]\\\n",
    ".groupby('ZIPCODE').nunique().reset_index()"
   ]
  },
  {
   "cell_type": "code",
   "execution_count": null,
   "id": "chicken-filing",
   "metadata": {},
   "outputs": [],
   "source": [
    "schools_count.rename(columns = {\"SCHID\" : \"school_count\"}, inplace = True)"
   ]
  },
  {
   "cell_type": "code",
   "execution_count": null,
   "id": "c4669ad7-db32-4e74-8f34-3a465510cb86",
   "metadata": {},
   "outputs": [],
   "source": [
    "schools_count"
   ]
  },
  {
   "cell_type": "code",
   "execution_count": null,
   "id": "50c3145e-5fa4-4cb7-82be-980a8a391888",
   "metadata": {},
   "outputs": [],
   "source": [
    "# Add the school count column to \"master\" dataframe, boston_zipcodes\n",
    "boston_zipcodes = boston_zipcodes.merge(schools_count, how='left', on='ZIPCODE')"
   ]
  },
  {
   "cell_type": "code",
   "execution_count": null,
   "id": "15aee913-2884-4374-814e-e24528fd506b",
   "metadata": {},
   "outputs": [],
   "source": [
    "boston_zipcodes = boston_zipcodes.replace(np.nan,0)"
   ]
  },
  {
   "cell_type": "code",
   "execution_count": null,
   "id": "c08203ee-bc8d-4124-a8f7-a7040abdf8e0",
   "metadata": {},
   "outputs": [],
   "source": [
    "boston_zipcodes"
   ]
  },
  {
   "cell_type": "code",
   "execution_count": null,
   "id": "pending-cliff",
   "metadata": {},
   "outputs": [],
   "source": [
    "# Visualize the zipcodes with highest school count in a darker color\n",
    "fig, ax = plt.subplots(figsize=(10, 10))\n",
    "boston_zipcodes.plot(legend=True, column='school_count', \\\n",
    "                     cmap='PuRd', ax=ax, legend_kwds={'label': 'Number of Schools'})\\\n",
    ".set_title('Boston Area Schools by Zip Code', size = 20)\n",
    "cx.add_basemap(ax, source=cx.providers.Stamen.TonerLite, \\\n",
    "               crs=boston_zipcodes.crs.to_string())\n",
    "ax.set_axis_off()"
   ]
  },
  {
   "cell_type": "code",
   "execution_count": null,
   "id": "fb86eb86-723b-4316-b6ae-2bc07f0cdb1c",
   "metadata": {},
   "outputs": [],
   "source": [
    "# List top zipcodes for number of schools\n",
    "head_schools = boston_zipcodes.sort_values(by='school_count', ascending=False)\n",
    "head_schools.head()"
   ]
  },
  {
   "cell_type": "code",
   "execution_count": null,
   "id": "add2f2b9-7fbe-4b78-9548-02c6651d0274",
   "metadata": {},
   "outputs": [],
   "source": [
    "# List zip codes with no schools\n",
    "head_schools.tail()"
   ]
  },
  {
   "cell_type": "markdown",
   "id": "5f8971b7-f56f-44dc-89b4-18134d66da2a",
   "metadata": {},
   "source": [
    "If school quantity was the only consideration, the zip codes near Marlborough, Braintree, and Salem would be most desirable. However, families typically consider a number of factors before making a move. "
   ]
  },
  {
   "cell_type": "markdown",
   "id": "automatic-brooklyn",
   "metadata": {},
   "source": [
    "## 5. Library Availability \n",
    "\n",
    "The presence of libraries is also a valuable consideration for families with young readers. Similar to the above method with school points, Boston-area libraries were totaled for each zip code, and displayed on a map. "
   ]
  },
  {
   "cell_type": "code",
   "execution_count": null,
   "id": "outside-score",
   "metadata": {},
   "outputs": [],
   "source": [
    "libraries = gpd.read_file('data/libraries/LIBRARIES_PT.shp')"
   ]
  },
  {
   "cell_type": "code",
   "execution_count": null,
   "id": "ccc7792d-341a-490d-bbf2-546a37d4e8fd",
   "metadata": {},
   "outputs": [],
   "source": [
    "libraries"
   ]
  },
  {
   "cell_type": "code",
   "execution_count": null,
   "id": "508189f8-ca15-4249-ac62-6aeda9abd94c",
   "metadata": {},
   "outputs": [],
   "source": [
    "# Calculate number of libraries per zip code\n",
    "lib_count = libraries[['NAME', 'ZIP']].groupby('ZIP').nunique().reset_index()"
   ]
  },
  {
   "cell_type": "code",
   "execution_count": null,
   "id": "c42d05c2-8c68-4821-ae86-27cb545d552e",
   "metadata": {},
   "outputs": [],
   "source": [
    "lib_count"
   ]
  },
  {
   "cell_type": "code",
   "execution_count": null,
   "id": "e2e20786-9394-4349-8b14-4a1653bd5285",
   "metadata": {},
   "outputs": [],
   "source": [
    "lib_count.rename(columns={\"ZIP\": \"ZIPCODE\"}, inplace=True)"
   ]
  },
  {
   "cell_type": "code",
   "execution_count": null,
   "id": "b024c8b6-9a4b-4f3f-b9bf-5b14fc2704c9",
   "metadata": {},
   "outputs": [],
   "source": [
    "lib_count.rename(columns = {\"NAME\": \"lib_count\"}, inplace=True)"
   ]
  },
  {
   "cell_type": "code",
   "execution_count": null,
   "id": "0909cd20-0b0a-4409-b0d8-70839321a126",
   "metadata": {},
   "outputs": [],
   "source": [
    "lib_count"
   ]
  },
  {
   "cell_type": "code",
   "execution_count": null,
   "id": "b725f4ea-6958-4aaa-b0da-b3272392e1fd",
   "metadata": {},
   "outputs": [],
   "source": [
    "boston_zipcodes = boston_zipcodes.merge(lib_count, how='left', on='ZIPCODE')"
   ]
  },
  {
   "cell_type": "code",
   "execution_count": null,
   "id": "49b07f9e-934a-4982-9205-019ec582bb08",
   "metadata": {},
   "outputs": [],
   "source": [
    "boston_zipcodes"
   ]
  },
  {
   "cell_type": "code",
   "execution_count": null,
   "id": "b6aa5d1a-f0a2-457f-8e6d-bd72b55d749e",
   "metadata": {},
   "outputs": [],
   "source": [
    "boston_zipcodes = boston_zipcodes.replace(np.nan,0)"
   ]
  },
  {
   "cell_type": "code",
   "execution_count": null,
   "id": "comparative-pendant",
   "metadata": {},
   "outputs": [],
   "source": [
    "#Plot number of libraries per zip code- darker color indicates more libraries\n",
    "fig, ax = plt.subplots(figsize=(10, 10))\n",
    "boston_zipcodes.plot(legend=True,column='lib_count', \\\n",
    "                     cmap='YlGnBu', ax=ax, \\\n",
    "                     legend_kwds={'label':'Number of Libraries'})\\\n",
    ".set_title('Boston Area Libraries by Zip Code', size=20)\n",
    "cx.add_basemap(ax, source=cx.providers.Stamen.TonerLite, \\\n",
    "               crs=boston_zipcodes.crs.to_string())\n",
    "ax.set_axis_off()"
   ]
  },
  {
   "cell_type": "code",
   "execution_count": null,
   "id": "c8f143ca-c3c9-491c-8a45-20d300687b3f",
   "metadata": {},
   "outputs": [],
   "source": [
    "# Zip codes with the highest number of libraries\n",
    "head_lib = boston_zipcodes.sort_values(by='lib_count', ascending=False)\n",
    "head_lib.head()"
   ]
  },
  {
   "cell_type": "code",
   "execution_count": null,
   "id": "f7feb32d-670d-4ed1-8afc-5fd422fcd383",
   "metadata": {},
   "outputs": [],
   "source": [
    "# Zip codes with least amount of libraries\n",
    "head_lib.tail()"
   ]
  },
  {
   "cell_type": "markdown",
   "id": "82cd4075-4a78-4fff-a997-76660a8c01fb",
   "metadata": {},
   "source": [
    "While several zip codes appear to have at least two libraries within their boundaries, the zip codes near Lynn, Somerville, and Boston proper have a whopping 3 for families with book worms. "
   ]
  },
  {
   "cell_type": "markdown",
   "id": "059f9891-e6d5-45ba-bc68-08ed627a01d4",
   "metadata": {},
   "source": [
    "## 6. Presence of Farmers Markets\n",
    "\n",
    "Buying produce from local farmers markets is not only a fun weekend activity for families, but is a healthy and affordable nutrition option. The same analysis used for schools and libraries is also applied to farmers markets below. "
   ]
  },
  {
   "cell_type": "code",
   "execution_count": null,
   "id": "53ae0897-30e6-40c8-a1c8-2853ab8fead3",
   "metadata": {},
   "outputs": [],
   "source": [
    "farmers_markets = gpd.read_file('data/farmers_markets/FARMERSMARKETS_PT.shp')"
   ]
  },
  {
   "cell_type": "code",
   "execution_count": null,
   "id": "3d1e6175-09f3-404c-b55d-86fd8591ded1",
   "metadata": {},
   "outputs": [],
   "source": [
    "farmers_markets"
   ]
  },
  {
   "cell_type": "code",
   "execution_count": null,
   "id": "2ad1d420-a388-4110-8d0f-802a91bc2119",
   "metadata": {},
   "outputs": [],
   "source": [
    "# Calculate number of farmers markets in each zip code\n",
    "market_count = farmers_markets[['MARKET_ID', 'ZIP_CODE']]\\\n",
    ".groupby('ZIP_CODE').nunique().reset_index()"
   ]
  },
  {
   "cell_type": "code",
   "execution_count": null,
   "id": "566288f4-d628-4cec-98a9-c908b535914f",
   "metadata": {},
   "outputs": [],
   "source": [
    "market_count"
   ]
  },
  {
   "cell_type": "code",
   "execution_count": null,
   "id": "73c3dc8d-a836-4d72-8a34-515e0ace1202",
   "metadata": {},
   "outputs": [],
   "source": [
    "market_count.rename(columns = {\"ZIP_CODE\" : \"ZIPCODE\"}, inplace = True)"
   ]
  },
  {
   "cell_type": "code",
   "execution_count": null,
   "id": "75578cbd-fa29-466c-bf3e-57d5ac1754bb",
   "metadata": {},
   "outputs": [],
   "source": [
    "market_count.rename(columns = {\"MARKET_ID\" : \"market_count\"}, inplace = True)"
   ]
  },
  {
   "cell_type": "code",
   "execution_count": null,
   "id": "2221f161-f0b5-4c42-9d45-01a6982b5c69",
   "metadata": {},
   "outputs": [],
   "source": [
    "boston_zipcodes = boston_zipcodes.merge(market_count, how='left', on='ZIPCODE')"
   ]
  },
  {
   "cell_type": "code",
   "execution_count": null,
   "id": "d205af28-352f-49a1-94d9-0c67881da65b",
   "metadata": {},
   "outputs": [],
   "source": [
    "boston_zipcodes"
   ]
  },
  {
   "cell_type": "code",
   "execution_count": null,
   "id": "2c2208ac-a3ff-4878-90a2-34f6cdc1a9a2",
   "metadata": {},
   "outputs": [],
   "source": [
    "boston_zipcodes= boston_zipcodes.replace(np.nan, 0)"
   ]
  },
  {
   "cell_type": "code",
   "execution_count": null,
   "id": "400c73cd-f109-497f-9f2d-76075cc19e60",
   "metadata": {},
   "outputs": [],
   "source": [
    "#Plot the number of farmers markets per zip code\n",
    "fig, ax = plt.subplots(figsize=(10, 10))\n",
    "boston_zipcodes.plot(legend=True, column='market_count', cmap='YlOrRd', ax=ax, \\\n",
    "                     legend_kwds={'label':'Number of Farmers Markets'})\\\n",
    ".set_title('Boston Area Farmers Markets by Zip Code', size=20)\n",
    "cx.add_basemap(ax, source=cx.providers.Stamen.TonerLite, \\\n",
    "               crs=boston_zipcodes.crs.to_string())\n",
    "ax.set_axis_off()"
   ]
  },
  {
   "cell_type": "code",
   "execution_count": null,
   "id": "bb60f6bb-bb54-4294-b0c4-dcbe791a4550",
   "metadata": {},
   "outputs": [],
   "source": [
    "#Zip codes with the greatest number of farmers markets\n",
    "head_markets = boston_zipcodes.sort_values(by='market_count', ascending=False)\n",
    "head_markets.head()"
   ]
  },
  {
   "cell_type": "code",
   "execution_count": 1,
   "id": "d1c9ca9c-6981-4cf7-a637-498db2cbbbc0",
   "metadata": {},
   "outputs": [
    {
     "ename": "NameError",
     "evalue": "name 'head_markets' is not defined",
     "output_type": "error",
     "traceback": [
      "\u001b[1;31m---------------------------------------------------------------------------\u001b[0m",
      "\u001b[1;31mNameError\u001b[0m                                 Traceback (most recent call last)",
      "\u001b[1;32m<ipython-input-1-6c52d2efa87c>\u001b[0m in \u001b[0;36m<module>\u001b[1;34m\u001b[0m\n\u001b[0;32m      1\u001b[0m \u001b[1;31m#Zip codes with the least amount of farmers markets\u001b[0m\u001b[1;33m\u001b[0m\u001b[1;33m\u001b[0m\u001b[1;33m\u001b[0m\u001b[0m\n\u001b[1;32m----> 2\u001b[1;33m \u001b[0mhead_markets\u001b[0m\u001b[1;33m.\u001b[0m\u001b[0mtail\u001b[0m\u001b[1;33m(\u001b[0m\u001b[1;33m)\u001b[0m\u001b[1;33m\u001b[0m\u001b[1;33m\u001b[0m\u001b[0m\n\u001b[0m",
      "\u001b[1;31mNameError\u001b[0m: name 'head_markets' is not defined"
     ]
    }
   ],
   "source": [
    "#Zip codes with the least amount of farmers markets\n",
    "head_markets.tail()"
   ]
  },
  {
   "cell_type": "markdown",
   "id": "7fb7de37-a63d-4520-b3fe-6b7df3fd0da4",
   "metadata": {},
   "source": [
    "As far as local produce goes, the nearer to Boston is the place to be. "
   ]
  },
  {
   "cell_type": "markdown",
   "id": "8cc9669d-2f95-4d5e-8108-38073e93958c",
   "metadata": {},
   "source": [
    "## 7. Ethnic Diversity\n",
    "\n",
    "Diversity is an extremely important factor in a child's education and upbringing. If children make friends with others from different races, backgrounds, and ethnicities, they are more likely to have more empathy towards others as they grow up. An indicator of ethnic diversity is the percent population that speaks a language other than English. "
   ]
  },
  {
   "cell_type": "code",
   "execution_count": null,
   "id": "7086c3f4-7a58-4c20-94af-4fe2a81def01",
   "metadata": {},
   "outputs": [],
   "source": [
    "language = pd.read_csv('data/language/language.csv', header=1)\n",
    "language"
   ]
  },
  {
   "cell_type": "code",
   "execution_count": null,
   "id": "6d972d38-9f70-4967-8137-fd3d61f20bbc",
   "metadata": {},
   "outputs": [],
   "source": [
    "language.rename(columns = {'Estimate!!Total!!Population 5 years and over!!Speak a language other than English' : 'bilingual'}, \\\n",
    "           inplace = True)"
   ]
  },
  {
   "cell_type": "code",
   "execution_count": null,
   "id": "40a5cffd-3689-4b8f-9f0c-0cf668898841",
   "metadata": {},
   "outputs": [],
   "source": [
    "language"
   ]
  },
  {
   "cell_type": "code",
   "execution_count": null,
   "id": "c10bc28d-69b0-426b-b163-75cda41c4231",
   "metadata": {},
   "outputs": [],
   "source": [
    "other_language = language[['Geographic Area Name', 'id', 'bilingual']]"
   ]
  },
  {
   "cell_type": "code",
   "execution_count": null,
   "id": "61466857-7392-4f01-9180-7f87798dbc9b",
   "metadata": {},
   "outputs": [],
   "source": [
    "other_language"
   ]
  },
  {
   "cell_type": "code",
   "execution_count": null,
   "id": "39f1b00a-a69c-4d2e-987d-6cdc9c625436",
   "metadata": {},
   "outputs": [],
   "source": [
    "other_language = other_language.rename\\\n",
    "(columns = {\"Geographic Area Name\" : \"geo_area\"}, inplace = False)"
   ]
  },
  {
   "cell_type": "code",
   "execution_count": null,
   "id": "d34cd300-40ee-47cf-a111-6fda38fe01f2",
   "metadata": {},
   "outputs": [],
   "source": [
    "split = other_language[\"geo_area\"].str.split(\" \", n=1, expand=True)"
   ]
  },
  {
   "cell_type": "code",
   "execution_count": null,
   "id": "24ccda66-c8b6-4d28-b7da-ef7b346c16f9",
   "metadata": {},
   "outputs": [],
   "source": [
    "other_language[\"ZIPCODE\"] = split[1]"
   ]
  },
  {
   "cell_type": "code",
   "execution_count": null,
   "id": "aa807e60-5d24-443c-8ceb-ef7bc0d47ac3",
   "metadata": {},
   "outputs": [],
   "source": [
    "other_language"
   ]
  },
  {
   "cell_type": "code",
   "execution_count": null,
   "id": "03a0b3eb-fcad-4b01-b24f-c0a4fa6c618c",
   "metadata": {},
   "outputs": [],
   "source": [
    "boston_zipcodes = boston_zipcodes.merge(other_language, left_on='ZIPCODE', \\\n",
    "                                        right_on='ZIPCODE', how='inner').copy()"
   ]
  },
  {
   "cell_type": "code",
   "execution_count": null,
   "id": "a160a4a1-f004-4231-9bfd-71779c8ae249",
   "metadata": {},
   "outputs": [],
   "source": [
    "boston_zipcodes = boston_zipcodes.replace(np.nan, 0)"
   ]
  },
  {
   "cell_type": "code",
   "execution_count": null,
   "id": "a249b753-98f7-4112-a221-effeffd5cc3a",
   "metadata": {},
   "outputs": [],
   "source": [
    "#Plot the number of other language speakers per zip code\n",
    "\n",
    "fig, ax = plt.subplots(figsize=(10, 10))\n",
    "boston_zipcodes.plot(legend=True,column='bilingual', \\\n",
    "                     cmap = 'copper',ax=ax, legend_kwds={'label':'Number of Speakers'})\\\n",
    ".set_title('Population Speaking Language Other Than Englishe', size=20)\n",
    "cx.add_basemap(ax, source=cx.providers.Stamen.TonerLite, \\\n",
    "               crs=boston_zipcodes.crs.to_string())\n",
    "ax.set_axis_off()"
   ]
  },
  {
   "cell_type": "code",
   "execution_count": null,
   "id": "65d85f9a-352e-4073-9892-bbaa72bb0486",
   "metadata": {},
   "outputs": [],
   "source": [
    "#Zip codes with the highest number of (at least) bilingual individuals\n",
    "\n",
    "head_language = boston_zipcodes.sort_values(by='bilingual', ascending=False)\n",
    "head_language.head()"
   ]
  },
  {
   "cell_type": "code",
   "execution_count": null,
   "id": "f9e9c05f-e03e-4105-9f5e-05c12d1d052a",
   "metadata": {},
   "outputs": [],
   "source": [
    "#Zip codes with the lowest number of foreign-language speakers\n",
    "\n",
    "head_language.tail()"
   ]
  },
  {
   "cell_type": "markdown",
   "id": "39cdcab5-f46d-4a5a-af13-e7297e4ade9b",
   "metadata": {},
   "source": [
    "## 8. School Enrollment\n",
    "\n",
    "Young families typically desire, not only school enrollemnt for their own children, but to live around families who also value education. Below, the total population enrolled in school (kindergarten through 12th grade) is included in the overall suitability analysis."
   ]
  },
  {
   "cell_type": "code",
   "execution_count": null,
   "id": "latest-demographic",
   "metadata": {},
   "outputs": [],
   "source": [
    "ACS = pd.read_csv('data/demographics/ACS.csv', header=1)"
   ]
  },
  {
   "cell_type": "code",
   "execution_count": null,
   "id": "36051d22-378f-4a1d-84ab-f67298043e5c",
   "metadata": {},
   "outputs": [],
   "source": [
    "ACS"
   ]
  },
  {
   "cell_type": "code",
   "execution_count": null,
   "id": "fd5d1d02-7ba1-4d7c-b98b-011feb69ba59",
   "metadata": {},
   "outputs": [],
   "source": [
    "ACS.rename(columns = {'Estimate!!Total!!Population 3 years and over enrolled in school!!Kindergarten to 12th grade!!Kindergarten' : 'kinder_enrolled'}, \\\n",
    "           inplace = True)"
   ]
  },
  {
   "cell_type": "code",
   "execution_count": null,
   "id": "ec1eeced-f961-41d7-8928-4a0fe8154271",
   "metadata": {},
   "outputs": [],
   "source": [
    "ACS_kinder = ACS[['Geographic Area Name', 'id', 'kinder_enrolled']]"
   ]
  },
  {
   "cell_type": "code",
   "execution_count": null,
   "id": "2f3662be-4574-42e9-932a-da1a1f91e6b5",
   "metadata": {},
   "outputs": [],
   "source": [
    "ACS_kinder"
   ]
  },
  {
   "cell_type": "code",
   "execution_count": null,
   "id": "33ea7700-4eb5-41b5-8d8f-f37d25a67a70",
   "metadata": {},
   "outputs": [],
   "source": [
    "ACS_kinder = ACS_kinder.rename\\\n",
    "(columns = {\"Geographic Area Name\" : \"geo_area\"}, inplace = False)"
   ]
  },
  {
   "cell_type": "code",
   "execution_count": null,
   "id": "54ff68f1-3fab-40ff-929a-7431254121e5",
   "metadata": {},
   "outputs": [],
   "source": [
    "split = ACS_kinder[\"geo_area\"].str.split(\" \", n=1, expand=True)"
   ]
  },
  {
   "cell_type": "code",
   "execution_count": null,
   "id": "b4443c80-47d9-4cdb-8d70-3dfc006aef83",
   "metadata": {},
   "outputs": [],
   "source": [
    "ACS_kinder[\"ZIPCODE\"] = split[1]"
   ]
  },
  {
   "cell_type": "code",
   "execution_count": null,
   "id": "d897d4a5-504c-45cc-9ef9-b4f61b98fac0",
   "metadata": {},
   "outputs": [],
   "source": [
    "ACS_kinder"
   ]
  },
  {
   "cell_type": "code",
   "execution_count": null,
   "id": "ed509f86-ff07-4815-abfa-bffa3caf67af",
   "metadata": {},
   "outputs": [],
   "source": [
    "boston_zipcodes = boston_zipcodes.merge(ACS_kinder, left_on='ZIPCODE', \\\n",
    "                                        right_on='ZIPCODE', how='inner').copy()"
   ]
  },
  {
   "cell_type": "code",
   "execution_count": null,
   "id": "7012e52b-1524-472a-b0a2-cddb1e0ca4cf",
   "metadata": {},
   "outputs": [],
   "source": [
    "boston_zipcodes"
   ]
  },
  {
   "cell_type": "code",
   "execution_count": null,
   "id": "b9cab7e6-2a5d-4700-9aac-399a40381b0e",
   "metadata": {},
   "outputs": [],
   "source": [
    "boston_zipcodes = boston_zipcodes.replace(np.nan, 0)"
   ]
  },
  {
   "cell_type": "code",
   "execution_count": null,
   "id": "734538bb-4437-4b50-9a17-c69b738bd04a",
   "metadata": {},
   "outputs": [],
   "source": [
    "#Plot the number of students enrolled per zip code\n",
    "\n",
    "boston_zipcodes = boston_zipcodes.replace(np.nan, 0)\n",
    "fig, ax = plt.subplots(figsize=(10, 10))\n",
    "boston_zipcodes.plot(legend=True,column='kinder_enrolled', \\\n",
    "                     cmap = 'PuBuGn',ax=ax, legend_kwds={'label':'Total Number of School Enrollment'})\\\n",
    ".set_title('Boston Area School Enrollment by Zip Code', size=20)\n",
    "cx.add_basemap(ax, source=cx.providers.Stamen.TonerLite, \\\n",
    "               crs=boston_zipcodes.crs.to_string())\n",
    "ax.set_axis_off()"
   ]
  },
  {
   "cell_type": "code",
   "execution_count": null,
   "id": "ea3c22cc-657b-4255-bcfb-a314782028f5",
   "metadata": {},
   "outputs": [],
   "source": [
    "head_enrolled = boston_zipcodes.sort_values(by='kinder_enrolled', ascending=False)\n",
    "head_enrolled.head()"
   ]
  },
  {
   "cell_type": "markdown",
   "id": "1627615f-f628-46de-8c3f-d03a4a1c9e0a",
   "metadata": {},
   "source": [
    "The zip codes just north and south of Boston have the highest school enrollment."
   ]
  },
  {
   "cell_type": "code",
   "execution_count": null,
   "id": "2b87d897-06b4-43fd-acea-d4a568a0fc8e",
   "metadata": {},
   "outputs": [],
   "source": [
    "tail_enrolled = boston_zipcodes.sort_values(by='kinder_enrolled', ascending=False)\n",
    "head_enrolled.tail()"
   ]
  },
  {
   "cell_type": "markdown",
   "id": "db06b8c9-f407-472c-b59a-960209c02abe",
   "metadata": {},
   "source": [
    "The five zipcodes with the lowest enrollment are 02047, 02199, 01901, 01467, and 02457."
   ]
  },
  {
   "cell_type": "markdown",
   "id": "04f80564-0b31-4596-bc4c-431691b11027",
   "metadata": {},
   "source": [
    "## 9. Other Young Children\n",
    "\n",
    "As a new parent, it is important to find connections with other young families to navigate raising children. Zip codes with high concentrations of young children likely contain daycares, playgroups, and other communities for young families."
   ]
  },
  {
   "cell_type": "code",
   "execution_count": null,
   "id": "ccb14357-f8df-4bdf-ac5f-d0997acf5854",
   "metadata": {},
   "outputs": [],
   "source": [
    "children = pd.read_csv('data/age_sex/age_sex.csv', header=1)"
   ]
  },
  {
   "cell_type": "code",
   "execution_count": null,
   "id": "306444ab-792c-414d-9ae9-17cdba2772fb",
   "metadata": {},
   "outputs": [],
   "source": [
    "children"
   ]
  },
  {
   "cell_type": "code",
   "execution_count": null,
   "id": "881163fe-9518-4b11-b877-19e750b77fbc",
   "metadata": {},
   "outputs": [],
   "source": [
    "children.rename(columns = {'Estimate!!Total!!Total population!!AGE!!Under 5 years' : 'under_five'}, \\\n",
    "           inplace = True)"
   ]
  },
  {
   "cell_type": "code",
   "execution_count": null,
   "id": "19fa3d4e-6d51-4d72-8841-5625980a3ac6",
   "metadata": {},
   "outputs": [],
   "source": [
    "children = children[['Geographic Area Name', 'id', 'under_five']]"
   ]
  },
  {
   "cell_type": "code",
   "execution_count": null,
   "id": "c600dd59-8ec2-4b7f-9976-1a5a0e6a953e",
   "metadata": {},
   "outputs": [],
   "source": [
    "children = children.rename\\\n",
    "(columns = {\"Geographic Area Name\" : \"geo_area\"}, inplace = False)"
   ]
  },
  {
   "cell_type": "code",
   "execution_count": null,
   "id": "6c83bfef-4fb0-415c-8867-0c7e32d53d11",
   "metadata": {},
   "outputs": [],
   "source": [
    "split = children[\"geo_area\"].str.split(\" \", n=1, expand=True)\n",
    "children[\"ZIPCODE\"] = split[1]"
   ]
  },
  {
   "cell_type": "code",
   "execution_count": null,
   "id": "3aba9db7-3796-4320-badf-eba05ca7c3a3",
   "metadata": {},
   "outputs": [],
   "source": [
    "boston_zipcodes = boston_zipcodes.replace(np.nan, 0)"
   ]
  },
  {
   "cell_type": "code",
   "execution_count": null,
   "id": "e7f3eb26-a642-468d-8e28-9acfd281217d",
   "metadata": {},
   "outputs": [],
   "source": [
    "boston_zipcodes = boston_zipcodes.merge(children, left_on='ZIPCODE', \\\n",
    "                                        right_on='ZIPCODE', how='inner').copy()"
   ]
  },
  {
   "cell_type": "code",
   "execution_count": null,
   "id": "4e5fdd99-0265-435a-9231-b4c9415692cd",
   "metadata": {},
   "outputs": [],
   "source": [
    "# Plot the number of young children per zipcode\n",
    "\n",
    "fig, ax = plt.subplots(figsize=(10, 10))\n",
    "boston_zipcodes.plot(legend=True, column='under_five', \\\n",
    "                     cmap='plasma', ax=ax, legend_kwds={'label':'Children Under Five'})\\\n",
    ".set_title('Total Population Under Five', size=20)\n",
    "cx.add_basemap(ax, source=cx.providers.Stamen.TonerLite, \\\n",
    "               crs=boston_zipcodes.crs.to_string())\n",
    "ax.set_axis_off()"
   ]
  },
  {
   "cell_type": "code",
   "execution_count": null,
   "id": "c7eef1ca-c902-4e87-a9b9-dad3fa164d1f",
   "metadata": {},
   "outputs": [],
   "source": [
    "# Zip codes with the highest number of young children\n",
    "\n",
    "head_children = boston_zipcodes.sort_values(by='under_five', ascending=False)\n",
    "head_children.head()"
   ]
  },
  {
   "cell_type": "code",
   "execution_count": null,
   "id": "4e492983-6afd-4e2b-b4c0-1accf4274a5a",
   "metadata": {},
   "outputs": [],
   "source": [
    "# Zip codes with the lowest number of young children\n",
    "\n",
    "head_children.tail()"
   ]
  },
  {
   "cell_type": "markdown",
   "id": "56ed08a4-f5cb-41f0-be49-aa8c3e1c2987",
   "metadata": {},
   "source": [
    "## 9. Reclassification \n",
    "\n",
    "Certain zipcodes will be more or less desirable for young families who consider all the above factors. Therefore, each zipcode should be reclassifed into three groups (highest, medium, and lowest desirability) based on the availability of resources and concentration of desirable demographics. For this analysis, quantile statistics were used to create suitability categories. For example, zip codes with a school count distribution higher than 50% will be categorized as highly desirable. These categorizations are used for each factor mentioned above."
   ]
  },
  {
   "cell_type": "code",
   "execution_count": null,
   "id": "f36b972a-59b9-4194-8931-8be73235f8bf",
   "metadata": {},
   "outputs": [],
   "source": [
    "boston_zipcodes"
   ]
  },
  {
   "cell_type": "code",
   "execution_count": null,
   "id": "ed735880-bab3-400c-9e7b-91f0d4450e8b",
   "metadata": {},
   "outputs": [],
   "source": [
    "boston_zipcodes.describe()"
   ]
  },
  {
   "cell_type": "code",
   "execution_count": null,
   "id": "48a1863f-e701-4861-a793-0ffd5e36809a",
   "metadata": {},
   "outputs": [],
   "source": [
    "boston_zipcodes['reclass_enroll'] = np.NaN"
   ]
  },
  {
   "cell_type": "code",
   "execution_count": null,
   "id": "3da8f0ae-8936-4291-b9c5-e7f62b0ebb3b",
   "metadata": {},
   "outputs": [],
   "source": [
    "# View lowest quantile\n",
    "\n",
    "boston_zipcodes.kinder_enrolled < boston_zipcodes.kinder_enrolled.quantile(0.25) "
   ]
  },
  {
   "cell_type": "code",
   "execution_count": null,
   "id": "15d69eaa-12ac-48c0-be2e-fba65fa2379b",
   "metadata": {},
   "outputs": [],
   "source": [
    "# Categorize school enrollment, 1-3\n",
    "\n",
    "boston_zipcodes.loc[boston_zipcodes.kinder_enrolled <= boston_zipcodes.kinder_enrolled.quantile(0.25), 'reclass_enroll'] = 1\n",
    "boston_zipcodes.loc[(boston_zipcodes.kinder_enrolled > boston_zipcodes.kinder_enrolled.quantile(0.25)) \\\n",
    "                    & (boston_zipcodes.kinder_enrolled <= boston_zipcodes.kinder_enrolled.quantile(0.5)),\\\n",
    "                    'reclass_enroll'] = 2\n",
    "boston_zipcodes.loc[(boston_zipcodes.kinder_enrolled > boston_zipcodes.kinder_enrolled.quantile(0.5)) \\\n",
    "                    & (boston_zipcodes.kinder_enrolled <= boston_zipcodes.kinder_enrolled.quantile(1)),\\\n",
    "                    'reclass_enroll']= 3"
   ]
  },
  {
   "cell_type": "code",
   "execution_count": null,
   "id": "2546c7d9-2c83-4dde-b8a6-b1a0d56bcdbe",
   "metadata": {},
   "outputs": [],
   "source": [
    "boston_zipcodes"
   ]
  },
  {
   "cell_type": "code",
   "execution_count": null,
   "id": "4909a8d0-4a55-43dc-baf5-87f4480aaa95",
   "metadata": {},
   "outputs": [],
   "source": [
    "boston_zipcodes['reclass_schools'] = np.NaN"
   ]
  },
  {
   "cell_type": "code",
   "execution_count": null,
   "id": "cbd2b1d4-3c6d-4f36-9b18-85765c109ca8",
   "metadata": {},
   "outputs": [],
   "source": [
    "# Categorize number of schools, 1-3\n",
    "\n",
    "boston_zipcodes.loc[boston_zipcodes.school_count <= \\\n",
    "                    boston_zipcodes.school_count.quantile(0.25), 'reclass_schools'] = 1\n",
    "boston_zipcodes.loc[(boston_zipcodes.school_count > boston_zipcodes.school_count.quantile(0.25))\\\n",
    "                    & (boston_zipcodes.school_count <= boston_zipcodes.school_count.quantile(0.5)),\\\n",
    "                    'reclass_schools'] = 2\n",
    "boston_zipcodes.loc[(boston_zipcodes.school_count > boston_zipcodes.school_count.quantile(0.5))\\\n",
    "                    & (boston_zipcodes.school_count <= boston_zipcodes.school_count.quantile(1)),\\\n",
    "                    'reclass_schools']= 3"
   ]
  },
  {
   "cell_type": "code",
   "execution_count": null,
   "id": "24b7eab7-44f6-4349-957b-b556ceb4f8ed",
   "metadata": {},
   "outputs": [],
   "source": [
    "boston_zipcodes['reclass_libs'] = np.NaN"
   ]
  },
  {
   "cell_type": "code",
   "execution_count": null,
   "id": "9be77627-066e-4fb2-84df-a840d51eed9f",
   "metadata": {},
   "outputs": [],
   "source": [
    "# Categorize number of libraries, 1-3\n",
    "\n",
    "boston_zipcodes.loc[boston_zipcodes.lib_count <=\\\n",
    "                    boston_zipcodes.lib_count.quantile(0.25), 'reclass_libs'] = 1\n",
    "boston_zipcodes.loc[(boston_zipcodes.lib_count > \\\n",
    "                     boston_zipcodes.lib_count.quantile(0.25)) \\\n",
    "                    & (boston_zipcodes.lib_count <= boston_zipcodes.lib_count.quantile(0.5)),\\\n",
    "                    'reclass_libs'] = 2\n",
    "boston_zipcodes.loc[(boston_zipcodes.lib_count > boston_zipcodes.lib_count.quantile(0.5))\\\n",
    "                    & (boston_zipcodes.lib_count <= boston_zipcodes.lib_count.quantile(1)),\\\n",
    "                    'reclass_libs']= 3"
   ]
  },
  {
   "cell_type": "code",
   "execution_count": null,
   "id": "5a470958-bc6b-49b8-8e84-a186d8af16b7",
   "metadata": {},
   "outputs": [],
   "source": [
    "boston_zipcodes['reclass_markets'] = np.NaN"
   ]
  },
  {
   "cell_type": "code",
   "execution_count": null,
   "id": "5bddfb40-2f88-45e8-9a5c-09571f53a8e4",
   "metadata": {},
   "outputs": [],
   "source": [
    "# Categorize number of farmers markets, 1-3\n",
    "\n",
    "boston_zipcodes.loc[boston_zipcodes.market_count <=\\\n",
    "                    boston_zipcodes.market_count.quantile(0.25), 'reclass_markets'] = 1\n",
    "boston_zipcodes.loc[(boston_zipcodes.market_count > boston_zipcodes.market_count.quantile(0.25))\\\n",
    "                    & (boston_zipcodes.market_count <= boston_zipcodes.market_count.quantile(0.5)),\\\n",
    "                    'reclass_markets'] = 2\n",
    "boston_zipcodes.loc[(boston_zipcodes.market_count > boston_zipcodes.market_count.quantile(0.5))\\\n",
    "                    & (boston_zipcodes.market_count <= boston_zipcodes.market_count.quantile(1)),\\\n",
    "                    'reclass_markets']= 3"
   ]
  },
  {
   "cell_type": "code",
   "execution_count": null,
   "id": "d37eb43d-8cad-4dbd-b703-9b15ddacbf15",
   "metadata": {},
   "outputs": [],
   "source": [
    "boston_zipcodes['reclass_language'] = np.NaN"
   ]
  },
  {
   "cell_type": "code",
   "execution_count": null,
   "id": "c019c00e-6431-45e9-856e-478612b29b47",
   "metadata": {},
   "outputs": [],
   "source": [
    "# Categorize foreign-language presence, 1-3\n",
    "\n",
    "boston_zipcodes.loc[boston_zipcodes.bilingual <=\\\n",
    "                    boston_zipcodes.bilingual.quantile(0.25), 'reclass_language'] = 1\n",
    "boston_zipcodes.loc[(boston_zipcodes.bilingual > boston_zipcodes.bilingual.quantile(0.25))\\\n",
    "                    & (boston_zipcodes.bilingual <= boston_zipcodes.bilingual.quantile(0.5)),\\\n",
    "                    'reclass_language'] = 2\n",
    "boston_zipcodes.loc[(boston_zipcodes.bilingual > boston_zipcodes.bilingual.quantile(0.5))\\\n",
    "                    & (boston_zipcodes.bilingual <= boston_zipcodes.bilingual.quantile(1)),\\\n",
    "                    'reclass_language']= 3"
   ]
  },
  {
   "cell_type": "code",
   "execution_count": null,
   "id": "50cadd84-64eb-47ce-977c-2ec209fdad13",
   "metadata": {},
   "outputs": [],
   "source": [
    "boston_zipcodes['reclass_children'] = np.NaN"
   ]
  },
  {
   "cell_type": "code",
   "execution_count": null,
   "id": "75470b78-3832-4e46-95dc-8018c41fafbc",
   "metadata": {},
   "outputs": [],
   "source": [
    "# Reclassify presence of other young families, 1-3\n",
    "\n",
    "boston_zipcodes.loc[boston_zipcodes.under_five <=\\\n",
    "                    boston_zipcodes.under_five.quantile(0.25), 'reclass_children'] = 1\n",
    "boston_zipcodes.loc[(boston_zipcodes.under_five > boston_zipcodes.under_five.quantile(0.25))\\\n",
    "                    & (boston_zipcodes.under_five <= boston_zipcodes.under_five.quantile(0.5)),\\\n",
    "                    'reclass_children'] = 2\n",
    "boston_zipcodes.loc[(boston_zipcodes.under_five > boston_zipcodes.under_five.quantile(0.5))\\\n",
    "                    & (boston_zipcodes.under_five <= boston_zipcodes.under_five.quantile(1)),\\\n",
    "                    'reclass_children']= 3"
   ]
  },
  {
   "cell_type": "code",
   "execution_count": null,
   "id": "7e89d28b-4be0-4aac-befa-22b1abb1f4c6",
   "metadata": {},
   "outputs": [],
   "source": [
    "boston_zipcodes"
   ]
  },
  {
   "cell_type": "markdown",
   "id": "70053fe5-ccda-4253-9b27-9c5c7db70dbc",
   "metadata": {},
   "source": [
    "Now, the Boston Zipcodes table includes a suitability rating (1-3) for each factor."
   ]
  },
  {
   "cell_type": "markdown",
   "id": "48bd1332-1748-47a9-9fb3-c4e34525da9f",
   "metadata": {},
   "source": [
    "## 10. Weighted Suitability\n",
    "\n",
    "Certain factors in this analysis should hold more weight than others. Proximity to schools and overall student enrollment, for example, would likely be considered more important than the number of nearby farmers markets. To analyze these weights, the factors included in these analysis will be weighted by importance."
   ]
  },
  {
   "cell_type": "code",
   "execution_count": null,
   "id": "f888821d-e57e-43ab-a70c-701958819662",
   "metadata": {},
   "outputs": [],
   "source": [
    "# Add weight to each variable \n",
    "boston_zipcodes['suitability'] = boston_zipcodes.reclass_enroll * .20 +\\\n",
    "boston_zipcodes.reclass_schools * .25 +\\\n",
    "boston_zipcodes.reclass_libs * .10 +\\\n",
    "boston_zipcodes.reclass_markets * .05 +\\\n",
    "boston_zipcodes.reclass_language * .25 +\\\n",
    "boston_zipcodes.reclass_children * .15"
   ]
  },
  {
   "cell_type": "code",
   "execution_count": null,
   "id": "d560123a-3f84-4a8c-8eda-04f857d1d118",
   "metadata": {},
   "outputs": [],
   "source": [
    "boston_zipcodes"
   ]
  },
  {
   "cell_type": "markdown",
   "id": "bd41be36-a8a0-4319-9fe6-f691bdd59a0a",
   "metadata": {},
   "source": [
    "# Final Map"
   ]
  },
  {
   "cell_type": "code",
   "execution_count": null,
   "id": "5929dabb-f199-46d1-affc-5b39cbf3e83a",
   "metadata": {},
   "outputs": [],
   "source": [
    "#Plot map of final suitability \n",
    "\n",
    "fig, ax = plt.subplots(figsize=(10, 10))\n",
    "boston_zipcodes.plot(legend=True, column='suitability', \\\n",
    "                     cmap='BuGn', ax=ax, legend_kwds={'label':'Suitability Score'}).set_title\\\n",
    "('Most Suitable Boston Zip Codes for Young Families', size=20)\n",
    "cx.add_basemap(ax, source=cx.providers.Stamen.TonerLite, crs=boston_zipcodes.crs.to_string())\n",
    "ax.set_axis_off()"
   ]
  },
  {
   "cell_type": "markdown",
   "id": "c2e99006-c7b0-4e81-bf06-cec0a1e271c8",
   "metadata": {},
   "source": [
    "According to this analysis, the below zip codes are considered **most** suitable for young families moving to the Boston area"
   ]
  },
  {
   "cell_type": "code",
   "execution_count": null,
   "id": "976d5fa7-f59e-475c-917c-49a710ab80da",
   "metadata": {},
   "outputs": [],
   "source": [
    "head_suitable = boston_zipcodes.sort_values(by='suitability', ascending=False)\n",
    "head_suitable.head()"
   ]
  },
  {
   "cell_type": "markdown",
   "id": "f65e2e25-fd25-421f-98e2-b97feb416517",
   "metadata": {},
   "source": [
    "The following zip codes are considered **least** desirable for young Boston families"
   ]
  },
  {
   "cell_type": "code",
   "execution_count": null,
   "id": "fd94d0da-be9a-4b4e-b75b-126ea445f1b1",
   "metadata": {},
   "outputs": [],
   "source": [
    "head_suitable = boston_zipcodes.sort_values(by='suitability', ascending=False)\n",
    "head_suitable.tail()"
   ]
  },
  {
   "cell_type": "code",
   "execution_count": null,
   "id": "af3be1f1-6101-42e5-9cfa-1a85b75d64fc",
   "metadata": {},
   "outputs": [],
   "source": []
  }
 ],
 "metadata": {
  "kernelspec": {
   "display_name": "Python 3",
   "language": "python",
   "name": "python3"
  },
  "language_info": {
   "codemirror_mode": {
    "name": "ipython",
    "version": 3
   },
   "file_extension": ".py",
   "mimetype": "text/x-python",
   "name": "python",
   "nbconvert_exporter": "python",
   "pygments_lexer": "ipython3",
   "version": "3.8.10"
  }
 },
 "nbformat": 4,
 "nbformat_minor": 5
}
